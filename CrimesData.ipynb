{
 "cells": [
  {
   "cell_type": "code",
   "execution_count": 1,
   "metadata": {
    "collapsed": true
   },
   "outputs": [],
   "source": [
    "val rdd = sc.textFile(\"Crimes.csv\")"
   ]
  },
  {
   "cell_type": "code",
   "execution_count": 2,
   "metadata": {
    "collapsed": false
   },
   "outputs": [
    {
     "data": {
      "text/plain": [
       "Array((ID,0), (Case Number,1), (Date,2), (Block,3), (IUCR,4), (Primary Type,5), (Description,6), (Location Description,7), (Arrest,8), (Domestic,9), (Beat,10), (District,11), (Ward,12), (Community Area,13), (FBI Code,14), (X Coordinate,15), (Y Coordinate,16), (Year,17), (Updated On,18), (Latitude,19), (Longitude,20), (Location,21))"
      ]
     },
     "execution_count": 2,
     "metadata": {},
     "output_type": "execute_result"
    }
   ],
   "source": [
    "rdd.first.split(\",\").zipWithIndex"
   ]
  },
  {
   "cell_type": "code",
   "execution_count": 4,
   "metadata": {
    "collapsed": true
   },
   "outputs": [],
   "source": [
    "val rows = rdd.filter(!_.contains(\"ID,Case Number\"))"
   ]
  },
  {
   "cell_type": "code",
   "execution_count": 5,
   "metadata": {
    "collapsed": false
   },
   "outputs": [],
   "source": [
    "val split = rows.map(x => x.split(\",\"))"
   ]
  },
  {
   "cell_type": "code",
   "execution_count": 6,
   "metadata": {
    "collapsed": false
   },
   "outputs": [
    {
     "data": {
      "text/plain": [
       "Array(2006-03-21T16:45, 2006-01-31T12:13:05, 2006-03-21T22:00, 2006-03-20T23:00, 2006-03-21T19:00, 2006-02-09T01:44:41)"
      ]
     },
     "execution_count": 6,
     "metadata": {},
     "output_type": "execute_result"
    }
   ],
   "source": [
    "import java.time._\n",
    "import java.time.format._\n",
    "\n",
    "val dates = split.map(x => {\n",
    "  val format = DateTimeFormatter.ofPattern(\"MM/dd/yyyy h:m:s a\")\n",
    "  LocalDateTime.parse(x(2), format)\n",
    "})\n",
    "dates.takeSample(false, 10)"
   ]
  },
  {
   "cell_type": "code",
   "execution_count": 7,
   "metadata": {
    "collapsed": false
   },
   "outputs": [
    {
     "data": {
      "text/plain": [
       "Array((2006,6))"
      ]
     },
     "execution_count": 7,
     "metadata": {},
     "output_type": "execute_result"
    }
   ],
   "source": [
    "dates.groupBy(x => x.getYear).mapValues(x => x.size).collect"
   ]
  },
  {
   "cell_type": "code",
   "execution_count": null,
   "metadata": {
    "collapsed": true
   },
   "outputs": [],
   "source": []
  }
 ],
 "metadata": {
  "kernelspec": {
   "display_name": "Apache Toree - Scala",
   "language": "scala",
   "name": "apache_toree_scala"
  },
  "language_info": {
   "name": "scala",
   "version": "2.10.4"
  }
 },
 "nbformat": 4,
 "nbformat_minor": 0
}
